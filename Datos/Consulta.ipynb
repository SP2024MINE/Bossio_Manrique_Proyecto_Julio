{
 "cells": [
  {
   "cell_type": "code",
   "execution_count": 2,
   "metadata": {},
   "outputs": [
    {
     "name": "stderr",
     "output_type": "stream",
     "text": [
      "WARNING:root:Requests made without an app_token will be subject to strict throttling limits.\n"
     ]
    }
   ],
   "source": [
    "from sodapy import Socrata\n",
    "import pandas as pd\n",
    "\n",
    "client = Socrata(\"www.datos.gov.co\", None,timeout=500)\n",
    "consulta = \"\"\"select * \n",
    "where nombre_entidad = 'SUPERINTENDENCIA FINANCIERA DE COLOMBIA'\n",
    "\"\"\"\n",
    "results = client.get(\"jbjy-vk9h\", query=consulta)\n",
    "results_df = pd.DataFrame.from_records(results)"
   ]
  },
  {
   "cell_type": "code",
   "execution_count": 5,
   "metadata": {},
   "outputs": [
    {
     "data": {
      "text/plain": [
       "0       110000000\n",
       "1      1899979027\n",
       "2         3961700\n",
       "3        90000000\n",
       "4       260000000\n",
       "          ...    \n",
       "628     758843840\n",
       "629      15094508\n",
       "630      50000230\n",
       "631      63380421\n",
       "632    1957833591\n",
       "Name: valor_del_contrato, Length: 633, dtype: int64"
      ]
     },
     "execution_count": 5,
     "metadata": {},
     "output_type": "execute_result"
    }
   ],
   "source": [
    "results_df['valor_del_contrato'] = pd.to_numeric(results_df['valor_del_contrato'], errors='coerce')\n",
    "results_df['valor_del_contrato']"
   ]
  },
  {
   "cell_type": "code",
   "execution_count": 6,
   "metadata": {},
   "outputs": [
    {
     "data": {
      "text/plain": [
       "np.int64(212236540550)"
      ]
     },
     "execution_count": 6,
     "metadata": {},
     "output_type": "execute_result"
    }
   ],
   "source": [
    "total_amount = results_df['valor_del_contrato'].sum()\n",
    "total_amount"
   ]
  },
  {
   "cell_type": "code",
   "execution_count": 7,
   "metadata": {},
   "outputs": [
    {
     "data": {
      "text/plain": [
       "0                            H323 TELECOMUNICACIONES SAS\n",
       "1                              AXA COLPATRIA SEGUROS S.A\n",
       "2                                        PROINCOL JK SAS\n",
       "3                                       AUTOS MONGUI SAS\n",
       "4                CAJA DE COMPENSACION FAMILIAR COMPENSAR\n",
       "                             ...                        \n",
       "628                            GLOBALTEK SECURITY S.A.S.\n",
       "629                                           UPSISTEMAS\n",
       "630                                People's Voice S.A.S.\n",
       "631                           IT SECURITY SERVICES S.A.S\n",
       "632    UNION TEMPORAL AXA COLPATRIA SEGUROS S.A.- QBE...\n",
       "Name: proveedor_adjudicado, Length: 633, dtype: object"
      ]
     },
     "execution_count": 7,
     "metadata": {},
     "output_type": "execute_result"
    }
   ],
   "source": [
    "results_df['proveedor_adjudicado']"
   ]
  }
 ],
 "metadata": {
  "kernelspec": {
   "display_name": "proyecto_julio",
   "language": "python",
   "name": "python3"
  },
  "language_info": {
   "codemirror_mode": {
    "name": "ipython",
    "version": 3
   },
   "file_extension": ".py",
   "mimetype": "text/x-python",
   "name": "python",
   "nbconvert_exporter": "python",
   "pygments_lexer": "ipython3",
   "version": "3.10.14"
  }
 },
 "nbformat": 4,
 "nbformat_minor": 2
}
